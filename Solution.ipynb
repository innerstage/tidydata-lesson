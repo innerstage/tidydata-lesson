{
 "cells": [
  {
   "cell_type": "markdown",
   "metadata": {},
   "source": [
    "# <u>Tidy Data</u>"
   ]
  },
  {
   "cell_type": "markdown",
   "metadata": {},
   "source": [
    "## Introducción\n",
    "\n",
    "* El concepto de <b>Tidy Data</b> nace en un paper de Hadley Wickam publicado en 2014.\n",
    "* Tidy Data (Datos Ordenados) $\\neq$ Messy Data (Datos Desordenados).\n",
    "* Formaliza cómo se describe la <b>forma de los datos</b>.\n",
    "* Nos entrega un <b>objetivo</b> cuando estamos dando formato a nuestros datos.\n",
    "* Formalmente, corresponde a un <b>\"Formato estándar para organizar valores dentro de un conjunto de datos\"</b>."
   ]
  },
  {
   "cell_type": "markdown",
   "metadata": {},
   "source": [
    "### Ejemplos de Messy Data\n",
    "Los ejemplos a continuación muestran la misma información, y se requiere un estándar para aplicarles formato."
   ]
  },
  {
   "cell_type": "code",
   "execution_count": null,
   "metadata": {},
   "outputs": [],
   "source": [
    "import pandas as pd\n",
    "from IPython.display import display, Image\n",
    "\n",
    "df1 = pd.read_csv(\"treatment_messy_1.csv\", index_col = 0)\n",
    "display(df1)\n",
    "\n",
    "df2 = pd.read_csv(\"treatment_messy_2.csv\", index_col = 0)\n",
    "display(df2)"
   ]
  },
  {
   "cell_type": "markdown",
   "metadata": {},
   "source": [
    "## Principios de Tidy Data"
   ]
  },
  {
   "cell_type": "code",
   "execution_count": null,
   "metadata": {},
   "outputs": [],
   "source": [
    "Image(\"principles.jpeg\")"
   ]
  },
  {
   "cell_type": "markdown",
   "metadata": {},
   "source": [
    "### Problemas más comunes:\n",
    "* Las columnas corresponden a valores y no nombres de variable.\n",
    "* Se almacenan varias variables en la misma columna.\n",
    "* Las variables se almacenan en filas y columnas al mismo tiempo.\n",
    "* Múltiples tipos de unidades observacionales se almacenan en la misma tabla.\n",
    "* Una unidad observacional se almacena en más de una tabla."
   ]
  },
  {
   "cell_type": "markdown",
   "metadata": {},
   "source": [
    "## Ejercicio 1: Convertir datos de tratamiento a formato tidy.\n",
    "* ¿Por qué el conjunto de datos (dataset) no está en formato Tidy? <b>Respuesta:</b> Las columnas contienen valores en vez de variables.\n",
    "* ¿Cuál es el formato adecuado para el conjunto de datos? <b>Respuesta:</b> Usar columnas \"name\", \"treatment\" y \"value\".\n",
    "* ¿Cómo se puede utilizar la librería <b>pandas</b> para convertir a el dataset a formato Tidy? <b>Respuesta:</b> Utilizando la función <b>pd.melt( )</b>\n",
    "\n",
    "Documentación de pd.melt( ) en https://pandas.pydata.org/pandas-docs/version/0.23.4/generated/pandas.melt.html"
   ]
  },
  {
   "cell_type": "code",
   "execution_count": null,
   "metadata": {},
   "outputs": [],
   "source": [
    "# Se importa el archivo con los datos\n",
    "df = pd.read_csv(\"treatment_messy_1.csv\", index_col = 0)\n",
    "\n",
    "# Escribe tu código aquí\n",
    "pd.melt(frame = df, id_vars = \"name\", value_vars = [\"treatment a\", \"treatment b\"])"
   ]
  },
  {
   "cell_type": "markdown",
   "metadata": {},
   "source": [
    "* La información en formato Tidy puede parecer extraña. No es fácil visualizar la diferencia en los resultados de los tratamientos.\n",
    "* Existen formatos que son mejores para la <b>Reportabilidad</b> y otros mejores para el <b>Análisis</b>.\n",
    "* El formato Tidy nos permite solucionar problemas comunes en los datos de forma más eficiente y sencilla.\n",
    "* Además, nos permite cambiar la forma en que se presentan los datos rápidamente.\n",
    "* Un dataset se denomina \"derretido\" (molten), cuando se le ha aplicado la función melt."
   ]
  },
  {
   "cell_type": "markdown",
   "metadata": {},
   "source": [
    "## Ejercicio 2: Convertir datos de calidad de aire a formato tidy.\n",
    "* ¿Por qué el conjunto dataset no está en formato Tidy? <b>Respuesta:</b> Existen varias variables en la misma columna.\n",
    "* ¿Cuál es el formato adecuado para el conjunto de datos? <b>Respuesta:</b> Que la columna \"variable\" se separe en varias columnas, una por cada variable.\n",
    "* ¿Cómo se puede utilizar la librería <b>pandas</b> para convertir a el dataset a formato Tidy? <b>Respuesta:</b> Utilizando el método <b>df.pivot_table( )</b>\n",
    "\n",
    "Documentación de df.pivot_table( ) en https://pandas.pydata.org/pandas-docs/stable/generated/pandas.DataFrame.pivot_table.html"
   ]
  },
  {
   "cell_type": "code",
   "execution_count": null,
   "metadata": {
    "scrolled": true
   },
   "outputs": [],
   "source": [
    "# Se importa el archivo con los datos\n",
    "df = pd.read_csv(\"airquality_messy.csv\", index_col = 0)\n",
    "\n",
    "# Escribe tu código aquí\n",
    "df.pivot_table(index = [\"Month\", \"Day\"], columns = \"variable\", values = \"value\").reset_index()\n",
    "df"
   ]
  },
  {
   "cell_type": "markdown",
   "metadata": {},
   "source": [
    "* El método <b>df.pivot_table( )</b> puede generar un dataframe con multi-index, lo que tal vez no corresponda al formato buscado.\n",
    "* Si el método entrega como resultado un dataframe con multi-index, se puede aplicar otro método que reinicia el índice del dataframe: <b>df.reset_index( )</b>"
   ]
  },
  {
   "cell_type": "markdown",
   "metadata": {},
   "source": [
    "## Ejercicio 3: Llevar datos de tuberculosis a formato tidy."
   ]
  },
  {
   "cell_type": "code",
   "execution_count": null,
   "metadata": {},
   "outputs": [],
   "source": [
    "# Importar archivo con los datos\n",
    "df = pd.read_csv(\"tb_messy.csv\", index_col = 0)\n",
    "\n",
    "# Explorar todas las columnas disponibles\n",
    "df.head()"
   ]
  },
  {
   "cell_type": "code",
   "execution_count": null,
   "metadata": {
    "scrolled": true
   },
   "outputs": [],
   "source": [
    "# Utilizar la función pd.melt() para derretir las columnas y almacenar resultado en df\n",
    "df = pd.melt(df, id_vars = [\"iso2\", \"year\"])\n",
    "df"
   ]
  },
  {
   "cell_type": "code",
   "execution_count": null,
   "metadata": {},
   "outputs": [],
   "source": [
    "# Extraer información de sexo desde la columna\n",
    "df[\"sex\"] = df[\"variable\"].str[7:8]\n",
    "df"
   ]
  },
  {
   "cell_type": "code",
   "execution_count": null,
   "metadata": {},
   "outputs": [],
   "source": [
    "# Extraer información de rango de edad desde la columna\n",
    "df[\"age\"] = df[\"variable\"].str[8:]\n",
    "\n",
    "# Revisar posibles categorías en columna \"age\"\n",
    "df[\"age\"].value_counts()"
   ]
  },
  {
   "cell_type": "code",
   "execution_count": null,
   "metadata": {},
   "outputs": [],
   "source": [
    "# Definir función para aplicar a la columna\n",
    "def rango(x):\n",
    "    if x == \"04\":\n",
    "        return \"0-4\"\n",
    "    elif x == \"65\":\n",
    "        return \"65+\"\n",
    "    else:\n",
    "        return x[:-2] + \"-\" + x[-2:]\n",
    "    \n",
    "# Aplicar función a la columna entera y guardar resultado en la misma columna (reemplazar valores)\n",
    "df[\"age\"] = df[\"age\"].apply(rango)\n",
    "df"
   ]
  },
  {
   "cell_type": "code",
   "execution_count": null,
   "metadata": {},
   "outputs": [],
   "source": [
    "# Eliminar columna \"variable\" y almacenar resultado en df\n",
    "df = df.drop(columns = \"variable\")\n",
    "df"
   ]
  },
  {
   "cell_type": "code",
   "execution_count": null,
   "metadata": {},
   "outputs": [],
   "source": [
    "# Eliminar filas específicas donde falten valores y almacenar resultado en df\n",
    "df = df.dropna()\n",
    "df"
   ]
  },
  {
   "cell_type": "code",
   "execution_count": null,
   "metadata": {},
   "outputs": [],
   "source": [
    "# Cambiar decimal en \"value\" a entero\n",
    "df[\"value\"] = df[\"value\"].astype(\"int\")\n",
    "df"
   ]
  },
  {
   "cell_type": "code",
   "execution_count": null,
   "metadata": {},
   "outputs": [],
   "source": [
    "# Reiniciar índice del Dataframe y eliminar índice antiguo\n",
    "df = df.reset_index()\n",
    "df = df.drop(columns = \"index\")\n",
    "df"
   ]
  },
  {
   "cell_type": "markdown",
   "metadata": {},
   "source": [
    "### Operaciones que se vuelven más eficientes con formato Tidy.\n",
    "\n",
    "* <u><b>Manipulación de Datos</b></u>:\n",
    " * <b>Filtrar</b>: Seleccionar conjuntos o eliminar observaciones según un criterio.\n",
    " * <b>Transformar</b>: Añadir o modificar variables. En forma singular o múltiple, esto incluye la aplicación de transformaciones matemáticas.\n",
    " * <b>Agregar</b>: Generar medidas que colapsen múltiples valores en uno sólo (sumas, promedios).\n",
    " * <b>Ordenar</b>: Cambiar el orden de las observaciones.\n",
    " \n",
    " \n",
    "* <u><b>Visualización de Datos</b></u>:\n",
    " * Uso extendido de herramientas de visualización que requieren datos ordenados.\n",
    " * Opciones adicionales para mapear variables y aspectos estéticos de la visualización.\n",
    "\n",
    "\n",
    "* <u><b>Modelación de Datos</b></u>:\n",
    " * Tests Estadísticos.\n",
    " * Machine Learning."
   ]
  }
 ],
 "metadata": {
  "kernelspec": {
   "display_name": "Python 3",
   "language": "python",
   "name": "python3"
  },
  "language_info": {
   "codemirror_mode": {
    "name": "ipython",
    "version": 3
   },
   "file_extension": ".py",
   "mimetype": "text/x-python",
   "name": "python",
   "nbconvert_exporter": "python",
   "pygments_lexer": "ipython3",
   "version": "3.7.0"
  }
 },
 "nbformat": 4,
 "nbformat_minor": 2
}
